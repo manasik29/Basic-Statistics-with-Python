{
  "nbformat": 4,
  "nbformat_minor": 0,
  "metadata": {
    "colab": {
      "name": "Assignmet2_Basic_statistics.ipynb",
      "provenance": [],
      "collapsed_sections": [],
      "authorship_tag": "ABX9TyPPRyh0qzyhuYJrRbyyOT/W",
      "include_colab_link": true
    },
    "kernelspec": {
      "name": "python3",
      "display_name": "Python 3"
    },
    "language_info": {
      "name": "python"
    }
  },
  "cells": [
    {
      "cell_type": "markdown",
      "metadata": {
        "id": "view-in-github",
        "colab_type": "text"
      },
      "source": [
        "<a href=\"https://colab.research.google.com/github/manasik29/DS_Python_Code/blob/main/Assignmet2_Basic_statistics.ipynb\" target=\"_parent\"><img src=\"https://colab.research.google.com/assets/colab-badge.svg\" alt=\"Open In Colab\"/></a>"
      ]
    },
    {
      "cell_type": "markdown",
      "source": [
        "***Set_1***\n",
        "\n",
        "Q1  Look at the data given below. Plot the data, find the outliers and find out  μ, σ, 2.\n",
        "\n"
      ],
      "metadata": {
        "id": "2eaqPMw59VMp"
      }
    },
    {
      "cell_type": "code",
      "source": [
        "import pandas as pd"
      ],
      "metadata": {
        "id": "TyI-3Sju-SNy"
      },
      "execution_count": 32,
      "outputs": []
    },
    {
      "cell_type": "code",
      "source": [
        "import matplotlib.pyplot as plt\n",
        "import seaborn as sns\n",
        "%matplotlib inline"
      ],
      "metadata": {
        "id": "u5k52ukX-SJV"
      },
      "execution_count": 38,
      "outputs": []
    },
    {
      "cell_type": "code",
      "source": [
        "Name_of_company = pd.Series(['Allied Signal','Bankers Trust','General Mills','ITT Industries','J.P.Morgan & Co.','Lehman Brothers','Marriott','MCI',\n",
        "                            'Merrill Lynch','Microsoft','Morgan Stanley','Sun Microsystems','Travelers','US Airways','Warner-Lambert'])"
      ],
      "metadata": {
        "id": "UwJgrQBg9Uzd"
      },
      "execution_count": 53,
      "outputs": []
    },
    {
      "cell_type": "code",
      "source": [
        "Measure_of_X = pd.Series([24.23,25.53,25.41,24.14,29.62,28.25,25.81,24.39,40.26,32.95,91.36,25.99,39.42,26.71,35.00])"
      ],
      "metadata": {
        "id": "N9irJqtA9UvD"
      },
      "execution_count": 52,
      "outputs": []
    },
    {
      "cell_type": "code",
      "source": [
        "plt.boxplot(Measure_of_X)"
      ],
      "metadata": {
        "colab": {
          "base_uri": "https://localhost:8080/",
          "height": 265
        },
        "id": "21nJI6qb9Upz",
        "outputId": "0e5538bd-69d7-4aa7-e2d1-89dca2573cef"
      },
      "execution_count": 42,
      "outputs": [
        {
          "output_type": "display_data",
          "data": {
            "text/plain": [
              "<Figure size 432x288 with 1 Axes>"
            ],
            "image/png": "[encoded data removed]"
          },
          "metadata": {
            "needs_background": "light"
          }
        }
      ]
    },
    {
      "cell_type": "code",
      "source": [
        "plt.figure(figsize = (20,8))\n",
        "sns.barplot(y = Measure_of_X, x = Name_of_company)"
      ],
      "metadata": {
        "colab": {
          "base_uri": "https://localhost:8080/",
          "height": 500
        },
        "id": "Itgp0mos9Uld",
        "outputId": "ce85e4bc-0499-4520-a6f9-59a36bc980d7"
      },
      "execution_count": 46,
      "outputs": [
        {
          "output_type": "execute_result",
          "data": {
            "text/plain": [
              "<matplotlib.axes._subplots.AxesSubplot at 0x7efd1e50d690>"
            ]
          },
          "metadata": {},
          "execution_count": 46
        },
        {
          "output_type": "display_data",
          "data": {
            "text/plain": [
              "<Figure size 1440x576 with 1 Axes>"
            ],
            "image/png": "[encoded data removed]"
          },
          "metadata": {
            "needs_background": "light"
          }
        }
      ]
    },
    {
      "cell_type": "code",
      "source": [
        "Measure_of_X.mean()"
      ],
      "metadata": {
        "colab": {
          "base_uri": "https://localhost:8080/"
        },
        "id": "LjW4Hz8KA_Wn",
        "outputId": "f14faae9-9219-4b66-dec0-354006a01d5e"
      },
      "execution_count": 54,
      "outputs": [
        {
          "output_type": "execute_result",
          "data": {
            "text/plain": [
              "33.27133333333333"
            ]
          },
          "metadata": {},
          "execution_count": 54
        }
      ]
    },
    {
      "cell_type": "code",
      "source": [
        "Measure_of_X.std()"
      ],
      "metadata": {
        "colab": {
          "base_uri": "https://localhost:8080/"
        },
        "id": "8Gct96nXA_Sm",
        "outputId": "fb1850ef-e72a-4b61-f886-5472ce3bd523"
      },
      "execution_count": 55,
      "outputs": [
        {
          "output_type": "execute_result",
          "data": {
            "text/plain": [
              "16.945400921222028"
            ]
          },
          "metadata": {},
          "execution_count": 55
        }
      ]
    },
    {
      "cell_type": "code",
      "source": [
        "Measure_of_X.var()"
      ],
      "metadata": {
        "colab": {
          "base_uri": "https://localhost:8080/"
        },
        "id": "uYNdkP_P9UhK",
        "outputId": "1afc3a1d-6a53-492b-813d-86b62e0f356a"
      },
      "execution_count": 57,
      "outputs": [
        {
          "output_type": "execute_result",
          "data": {
            "text/plain": [
              "287.1466123809524"
            ]
          },
          "metadata": {},
          "execution_count": 57
        }
      ]
    },
    {
      "cell_type": "markdown",
      "source": [
        "***SET_2***\n",
        "\n",
        "Q1 The time required for servicing transmissions is normally distributed with μ = 45 minutes and σ = 8 minutes. The service manager plans to have work begin on the transmission of a customer’s car 10 minutes after the car is dropped off and the customer is told that the car will be ready within 1 hour from drop-off. What is the probability that the service manager cannot meet his commitment? \n",
        "\n",
        "Ans: Pickup after 60 mins of drop-off, 10 mins is buffer after every car is dropped so it leaves 50 mins to complete task.\n"
      ],
      "metadata": {
        "id": "zonrjSY0EN6U"
      }
    },
    {
      "cell_type": "code",
      "source": [
        "from scipy import stats\n",
        "P = 1 - stats.norm.cdf(50,45,8)"
      ],
      "metadata": {
        "id": "r8chOx-wEfgC"
      },
      "execution_count": 62,
      "outputs": []
    },
    {
      "cell_type": "code",
      "source": [
        "print('P(X>50):', P)"
      ],
      "metadata": {
        "colab": {
          "base_uri": "https://localhost:8080/"
        },
        "id": "TNg6PhxuEfYF",
        "outputId": "02b8c79b-a9ca-47b8-ac6d-84cd5d9fbb92"
      },
      "execution_count": 64,
      "outputs": [
        {
          "output_type": "stream",
          "name": "stdout",
          "text": [
            "P(X>50): 0.26598552904870054\n"
          ]
        }
      ]
    },
    {
      "cell_type": "markdown",
      "source": [
        "Q2  The current age (in years) of 400 clerical employees at an insurance claims processing center is normally distributed with mean μ = 38 and Standard deviation σ =6. For each statement below, please specify True/False. If false, briefly explain why.\n",
        "A. More employees at the processing center are older than 44 than between 38 and 44.\n",
        "\n",
        "Ans: False. As P(38<X<44) > P(X>44)."
      ],
      "metadata": {
        "id": "ExqpqAj6FLVC"
      }
    },
    {
      "cell_type": "code",
      "source": [
        "P1 = stats.norm.cdf(44, loc = 38, scale = 6) - stats.norm.cdf(38, loc = 38, scale = 6)"
      ],
      "metadata": {
        "id": "BOGg0cdZEfQ6"
      },
      "execution_count": 65,
      "outputs": []
    },
    {
      "cell_type": "code",
      "source": [
        "P2 = 1 - stats.norm.cdf(44, loc = 38, scale = 6)\n"
      ],
      "metadata": {
        "id": "kSkYlYeDEfNj"
      },
      "execution_count": 66,
      "outputs": []
    },
    {
      "cell_type": "code",
      "source": [
        "print(P1,'>',P2)"
      ],
      "metadata": {
        "colab": {
          "base_uri": "https://localhost:8080/"
        },
        "id": "Pa_YDnIHEfDZ",
        "outputId": "1f6566c5-3f04-41fa-e533-79006eeee243"
      },
      "execution_count": 69,
      "outputs": [
        {
          "output_type": "stream",
          "name": "stdout",
          "text": [
            "0.3413447460685429 > 0.15865525393145707\n"
          ]
        }
      ]
    },
    {
      "cell_type": "markdown",
      "source": [
        "A training program for employees under the age of 30 at the center would be expected to attract about 36 employees.\n",
        "\n",
        "Ans: True. No of employees below 30 = P\n"
      ],
      "metadata": {
        "id": "NoW7zmSsF5r4"
      }
    },
    {
      "cell_type": "code",
      "source": [
        "n = stats.norm.cdf(30, loc = 38, scale = 6) * 400"
      ],
      "metadata": {
        "id": "QD9ELPp0F8cb"
      },
      "execution_count": 72,
      "outputs": []
    },
    {
      "cell_type": "code",
      "source": [
        "print('P:', n)"
      ],
      "metadata": {
        "colab": {
          "base_uri": "https://localhost:8080/"
        },
        "id": "GVlsJY6OGBcO",
        "outputId": "4fad0642-236f-4e9a-9f55-a48fc1591ba3"
      },
      "execution_count": 73,
      "outputs": [
        {
          "output_type": "stream",
          "name": "stdout",
          "text": [
            "P: 36.484487890347154\n"
          ]
        }
      ]
    },
    {
      "cell_type": "markdown",
      "source": [
        "Q4  Let X ~ N(100, 202). Find two values, a and b, symmetric about the mean, such that the probability of the random variable taking a value between them is 0.99. \n",
        "\n",
        "A. 90.5, 105.9 \n",
        "\n",
        "B. 80.2, 119.8 \n",
        "\n",
        "C. 22, 78 \n",
        "\n",
        "D. 48.5, 151.5 \n",
        "\n",
        "E. 90.1, 109.9\n",
        "\n",
        "Ans: D.  (48.5,151.5).    (a<X<b) = P\n"
      ],
      "metadata": {
        "id": "NTWi6QY8Gb1_"
      }
    },
    {
      "cell_type": "code",
      "source": [
        "P =  stats.norm.interval(0.99, loc = 100, scale = 20)\n",
        "\n",
        "print('Ans:', P)"
      ],
      "metadata": {
        "colab": {
          "base_uri": "https://localhost:8080/"
        },
        "id": "j9FIjw4GGBJ0",
        "outputId": "dfd3db81-f6f7-41db-b12c-12d2917913e2"
      },
      "execution_count": 74,
      "outputs": [
        {
          "output_type": "stream",
          "name": "stdout",
          "text": [
            "Ans: (48.48341392902199, 151.516586070978)\n"
          ]
        }
      ]
    },
    {
      "cell_type": "markdown",
      "source": [
        "Q5  Consider a company that has two different divisions. The annual profits from the two divisions are independent and have distributions Profit1 ~ N(5, 32) and Profit2 ~ N(7, 42) respectively. Both the profits are in $ Million. \n",
        "\n",
        "Answer the following questions about the total profit of the company in Rupees. \n",
        "\n",
        "Assume that $1 = Rs. 45\n",
        "\n",
        "A. Specify a Rupee range (centered on the mean) such that it contains 95% probability for the annual profit of the company. \n",
        "\n",
        "Ans: P = 0.95,\n",
        "         \n",
        "loc1 = 5million $ = 500000x45 = 22.5cr,scale1 = 3000000x45 = 13.5cr\n",
        "      \n",
        "Loc2 = 7000000x45 = 31.5cr, scale2 = 4000000x45 = 18cr\n",
        "\n",
        "Range for division 1 =\n"
      ],
      "metadata": {
        "id": "bMsq5z3oHLXY"
      }
    },
    {
      "cell_type": "code",
      "source": [
        "R1 = stats.norm.interval(0.95, loc = 22.5, scale = 13.5)\n",
        "print('Range for division 1 =', R1)"
      ],
      "metadata": {
        "colab": {
          "base_uri": "https://localhost:8080/"
        },
        "id": "yOKgwEfjH1uZ",
        "outputId": "622a842a-7a35-496c-82ce-b6e50268a624"
      },
      "execution_count": 75,
      "outputs": [
        {
          "output_type": "stream",
          "name": "stdout",
          "text": [
            "Range for division 1 = (-3.9595137912907283, 48.95951379129073)\n"
          ]
        }
      ]
    },
    {
      "cell_type": "markdown",
      "source": [
        "Range for division 2 ="
      ],
      "metadata": {
        "id": "y6-z_brSICO3"
      }
    },
    {
      "cell_type": "code",
      "source": [
        "R2 = stats.norm.interval(0.95, loc = 31.5, scale = 18)\n",
        "print('Range for division 2 =', R2)"
      ],
      "metadata": {
        "colab": {
          "base_uri": "https://localhost:8080/"
        },
        "id": "y-aDvABVIB66",
        "outputId": "969f189f-0755-4253-f961-884fad594f09"
      },
      "execution_count": 76,
      "outputs": [
        {
          "output_type": "stream",
          "name": "stdout",
          "text": [
            "Range for division 2 = (-3.779351721720971, 66.77935172172097)\n"
          ]
        }
      ]
    },
    {
      "cell_type": "markdown",
      "source": [
        "C. Which of the two divisions has a larger probability of making a loss in a given year?\n",
        "\n",
        "Ans: Probability of loss means profit is less than 0.\n",
        "For 1st  division -  P(Loss) = P(X<0)"
      ],
      "metadata": {
        "id": "AFY7NsUvIT-g"
      }
    },
    {
      "cell_type": "code",
      "source": [
        "P = stats.norm.cdf(0, loc = 5, scale = 3) \n",
        "print('P(loss):', P)"
      ],
      "metadata": {
        "colab": {
          "base_uri": "https://localhost:8080/"
        },
        "id": "Rij1RynmIWqs",
        "outputId": "30203408-06e9-46e1-f622-ae3a909e95ab"
      },
      "execution_count": 77,
      "outputs": [
        {
          "output_type": "stream",
          "name": "stdout",
          "text": [
            "P(loss): 0.0477903522728147\n"
          ]
        }
      ]
    },
    {
      "cell_type": "markdown",
      "source": [
        "For 2nd  division -  P(Loss) = P(X<0)"
      ],
      "metadata": {
        "id": "Vbb8bL8IIkPn"
      }
    },
    {
      "cell_type": "code",
      "source": [
        "P = stats.norm.cdf(0, loc = 7, scale = 4) \n",
        "print('P(loss):',P)"
      ],
      "metadata": {
        "colab": {
          "base_uri": "https://localhost:8080/"
        },
        "id": "xAyESZPFIjyR",
        "outputId": "822131b4-8b44-4d50-d62f-5924e2b0bb0e"
      },
      "execution_count": 78,
      "outputs": [
        {
          "output_type": "stream",
          "name": "stdout",
          "text": [
            "P(loss): 0.040059156863817086\n"
          ]
        }
      ]
    },
    {
      "cell_type": "markdown",
      "source": [
        "***SET3***"
      ],
      "metadata": {
        "id": "81Pp_BXzCzm6"
      }
    },
    {
      "cell_type": "markdown",
      "source": [
        "Q5. In January 2005, a company that monitors Internet traffic (WebSideStory) reported that its sampling revealed that the Mozilla Firefox browser launched in 2004 had grabbed a 4.6% share of the market.\n",
        "\n",
        "If the sample were based on 2,000 users, could Microsoft conclude that Mozilla has a less than 5% share of the market?\n",
        "\n",
        "H0 - >5%\n",
        "Ha - <5%"
      ],
      "metadata": {
        "id": "oJS4piPyrKtY"
      }
    },
    {
      "cell_type": "code",
      "execution_count": null,
      "metadata": {
        "id": "3pcXUCL6rDPC"
      },
      "outputs": [],
      "source": [
        "import numpy as np\n",
        "from scipy import stats "
      ]
    },
    {
      "cell_type": "code",
      "source": [
        "p=0.05\n",
        "p_n=0.046\n",
        "n=2000\n",
        "\n"
      ],
      "metadata": {
        "id": "PEF2WVf_rZV0"
      },
      "execution_count": null,
      "outputs": []
    },
    {
      "cell_type": "code",
      "source": [
        "z = (p-p_n)/(np.sqrt(p*(1-p)/n))\n",
        "\n"
      ],
      "metadata": {
        "id": "kncX1gU4rzm7"
      },
      "execution_count": null,
      "outputs": []
    },
    {
      "cell_type": "code",
      "source": [
        "z"
      ],
      "metadata": {
        "colab": {
          "base_uri": "https://localhost:8080/"
        },
        "id": "qGkF-UinsEpL",
        "outputId": "1d0827a9-e21f-4ac4-83f2-c8c93b34a6a9"
      },
      "execution_count": null,
      "outputs": [
        {
          "output_type": "execute_result",
          "data": {
            "text/plain": [
              "0.820782681668124"
            ]
          },
          "metadata": {},
          "execution_count": 14
        }
      ]
    },
    {
      "cell_type": "code",
      "source": [
        "p_value = (stats.norm.cdf(z))/2"
      ],
      "metadata": {
        "id": "01KiaqRNsmY8"
      },
      "execution_count": null,
      "outputs": []
    },
    {
      "cell_type": "code",
      "source": [
        "p_value"
      ],
      "metadata": {
        "colab": {
          "base_uri": "https://localhost:8080/"
        },
        "id": "ntPoMk4WtD0D",
        "outputId": "73a4b14a-88d9-44dc-c457-0df0fc3e42ff"
      },
      "execution_count": null,
      "outputs": [
        {
          "output_type": "execute_result",
          "data": {
            "text/plain": [
              "0.3970574837744645"
            ]
          },
          "metadata": {},
          "execution_count": 18
        }
      ]
    },
    {
      "cell_type": "code",
      "source": [
        "#p_value>alpha(0.05) fail to reject H0\n",
        "# hence Microsoft could not conclude that Mozilla has a less than 5% share of the market"
      ],
      "metadata": {
        "id": "XLr65xhptHhr"
      },
      "execution_count": null,
      "outputs": []
    },
    {
      "cell_type": "code",
      "source": [
        ""
      ],
      "metadata": {
        "id": "xfLotGFD0MDg"
      },
      "execution_count": null,
      "outputs": []
    }
  ]
}